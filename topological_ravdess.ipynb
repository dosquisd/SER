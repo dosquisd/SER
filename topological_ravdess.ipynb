{
 "cells": [
  {
   "cell_type": "code",
   "execution_count": 3,
   "metadata": {},
   "outputs": [],
   "source": [
    "import nolds\n",
    "import os\n",
    "import librosa\n",
    "import pandas as pd\n",
    "import numpy as np\n",
    "from my_functions import *\n",
    "\n",
    "\n",
    "np.random.seed(0)\n",
    "\n",
    "ravdess_path = r'Ravdess/audio_speech_actors_01-24'\n",
    "emotions = ['Neutral', 'Calm', 'Happy', 'Sad', 'Angry', 'Fearful', 'Disgust', 'Surprised']\n",
    "intensities = ['Normal', 'Strong']\n",
    "statements = ['Kids are talking by the door', 'Dogs are sitting by the door']\n",
    "sr = 22050"
   ]
  },
  {
   "cell_type": "code",
   "execution_count": 4,
   "metadata": {},
   "outputs": [
    {
     "data": {
      "text/html": [
       "<div>\n",
       "<style scoped>\n",
       "    .dataframe tbody tr th:only-of-type {\n",
       "        vertical-align: middle;\n",
       "    }\n",
       "\n",
       "    .dataframe tbody tr th {\n",
       "        vertical-align: top;\n",
       "    }\n",
       "\n",
       "    .dataframe thead th {\n",
       "        text-align: right;\n",
       "    }\n",
       "</style>\n",
       "<table border=\"1\" class=\"dataframe\">\n",
       "  <thead>\n",
       "    <tr style=\"text-align: right;\">\n",
       "      <th></th>\n",
       "      <th>Actor</th>\n",
       "      <th>Sex</th>\n",
       "      <th>Emotion</th>\n",
       "      <th>Intensity</th>\n",
       "      <th>Statement</th>\n",
       "      <th>Reps</th>\n",
       "      <th>File</th>\n",
       "      <th>No. Samples</th>\n",
       "      <th>Duration</th>\n",
       "    </tr>\n",
       "  </thead>\n",
       "  <tbody>\n",
       "    <tr>\n",
       "      <th>0</th>\n",
       "      <td>Actor_01</td>\n",
       "      <td>Man</td>\n",
       "      <td>Neutral</td>\n",
       "      <td>Normal</td>\n",
       "      <td>Kids are talking by the door</td>\n",
       "      <td>1</td>\n",
       "      <td>03-01-01-01-01-01-01.wav</td>\n",
       "      <td>72838</td>\n",
       "      <td>3.303311</td>\n",
       "    </tr>\n",
       "    <tr>\n",
       "      <th>1</th>\n",
       "      <td>Actor_01</td>\n",
       "      <td>Man</td>\n",
       "      <td>Neutral</td>\n",
       "      <td>Normal</td>\n",
       "      <td>Kids are talking by the door</td>\n",
       "      <td>2</td>\n",
       "      <td>03-01-01-01-01-02-01.wav</td>\n",
       "      <td>73574</td>\n",
       "      <td>3.336689</td>\n",
       "    </tr>\n",
       "    <tr>\n",
       "      <th>2</th>\n",
       "      <td>Actor_01</td>\n",
       "      <td>Man</td>\n",
       "      <td>Neutral</td>\n",
       "      <td>Normal</td>\n",
       "      <td>Dogs are sitting by the door</td>\n",
       "      <td>1</td>\n",
       "      <td>03-01-01-01-02-01-01.wav</td>\n",
       "      <td>72102</td>\n",
       "      <td>3.269932</td>\n",
       "    </tr>\n",
       "    <tr>\n",
       "      <th>3</th>\n",
       "      <td>Actor_01</td>\n",
       "      <td>Man</td>\n",
       "      <td>Neutral</td>\n",
       "      <td>Normal</td>\n",
       "      <td>Dogs are sitting by the door</td>\n",
       "      <td>2</td>\n",
       "      <td>03-01-01-01-02-02-01.wav</td>\n",
       "      <td>69895</td>\n",
       "      <td>3.169841</td>\n",
       "    </tr>\n",
       "    <tr>\n",
       "      <th>4</th>\n",
       "      <td>Actor_01</td>\n",
       "      <td>Man</td>\n",
       "      <td>Calm</td>\n",
       "      <td>Normal</td>\n",
       "      <td>Kids are talking by the door</td>\n",
       "      <td>1</td>\n",
       "      <td>03-01-02-01-01-01-01.wav</td>\n",
       "      <td>77988</td>\n",
       "      <td>3.536871</td>\n",
       "    </tr>\n",
       "    <tr>\n",
       "      <th>...</th>\n",
       "      <td>...</td>\n",
       "      <td>...</td>\n",
       "      <td>...</td>\n",
       "      <td>...</td>\n",
       "      <td>...</td>\n",
       "      <td>...</td>\n",
       "      <td>...</td>\n",
       "      <td>...</td>\n",
       "      <td>...</td>\n",
       "    </tr>\n",
       "    <tr>\n",
       "      <th>1435</th>\n",
       "      <td>Actor_24</td>\n",
       "      <td>Woman</td>\n",
       "      <td>Surprised</td>\n",
       "      <td>Normal</td>\n",
       "      <td>Dogs are sitting by the door</td>\n",
       "      <td>2</td>\n",
       "      <td>03-01-08-01-02-02-24.wav</td>\n",
       "      <td>75045</td>\n",
       "      <td>3.403401</td>\n",
       "    </tr>\n",
       "    <tr>\n",
       "      <th>1436</th>\n",
       "      <td>Actor_24</td>\n",
       "      <td>Woman</td>\n",
       "      <td>Surprised</td>\n",
       "      <td>Strong</td>\n",
       "      <td>Kids are talking by the door</td>\n",
       "      <td>1</td>\n",
       "      <td>03-01-08-02-01-01-24.wav</td>\n",
       "      <td>86817</td>\n",
       "      <td>3.937279</td>\n",
       "    </tr>\n",
       "    <tr>\n",
       "      <th>1437</th>\n",
       "      <td>Actor_24</td>\n",
       "      <td>Woman</td>\n",
       "      <td>Surprised</td>\n",
       "      <td>Strong</td>\n",
       "      <td>Kids are talking by the door</td>\n",
       "      <td>2</td>\n",
       "      <td>03-01-08-02-01-02-24.wav</td>\n",
       "      <td>87553</td>\n",
       "      <td>3.970658</td>\n",
       "    </tr>\n",
       "    <tr>\n",
       "      <th>1438</th>\n",
       "      <td>Actor_24</td>\n",
       "      <td>Woman</td>\n",
       "      <td>Surprised</td>\n",
       "      <td>Strong</td>\n",
       "      <td>Dogs are sitting by the door</td>\n",
       "      <td>1</td>\n",
       "      <td>03-01-08-02-02-01-24.wav</td>\n",
       "      <td>80931</td>\n",
       "      <td>3.670340</td>\n",
       "    </tr>\n",
       "    <tr>\n",
       "      <th>1439</th>\n",
       "      <td>Actor_24</td>\n",
       "      <td>Woman</td>\n",
       "      <td>Surprised</td>\n",
       "      <td>Strong</td>\n",
       "      <td>Dogs are sitting by the door</td>\n",
       "      <td>2</td>\n",
       "      <td>03-01-08-02-02-02-24.wav</td>\n",
       "      <td>80195</td>\n",
       "      <td>3.636961</td>\n",
       "    </tr>\n",
       "  </tbody>\n",
       "</table>\n",
       "<p>1440 rows × 9 columns</p>\n",
       "</div>"
      ],
      "text/plain": [
       "         Actor    Sex    Emotion Intensity                     Statement  \\\n",
       "0     Actor_01    Man    Neutral    Normal  Kids are talking by the door   \n",
       "1     Actor_01    Man    Neutral    Normal  Kids are talking by the door   \n",
       "2     Actor_01    Man    Neutral    Normal  Dogs are sitting by the door   \n",
       "3     Actor_01    Man    Neutral    Normal  Dogs are sitting by the door   \n",
       "4     Actor_01    Man       Calm    Normal  Kids are talking by the door   \n",
       "...        ...    ...        ...       ...                           ...   \n",
       "1435  Actor_24  Woman  Surprised    Normal  Dogs are sitting by the door   \n",
       "1436  Actor_24  Woman  Surprised    Strong  Kids are talking by the door   \n",
       "1437  Actor_24  Woman  Surprised    Strong  Kids are talking by the door   \n",
       "1438  Actor_24  Woman  Surprised    Strong  Dogs are sitting by the door   \n",
       "1439  Actor_24  Woman  Surprised    Strong  Dogs are sitting by the door   \n",
       "\n",
       "      Reps                      File  No. Samples  Duration  \n",
       "0        1  03-01-01-01-01-01-01.wav        72838  3.303311  \n",
       "1        2  03-01-01-01-01-02-01.wav        73574  3.336689  \n",
       "2        1  03-01-01-01-02-01-01.wav        72102  3.269932  \n",
       "3        2  03-01-01-01-02-02-01.wav        69895  3.169841  \n",
       "4        1  03-01-02-01-01-01-01.wav        77988  3.536871  \n",
       "...    ...                       ...          ...       ...  \n",
       "1435     2  03-01-08-01-02-02-24.wav        75045  3.403401  \n",
       "1436     1  03-01-08-02-01-01-24.wav        86817  3.937279  \n",
       "1437     2  03-01-08-02-01-02-24.wav        87553  3.970658  \n",
       "1438     1  03-01-08-02-02-01-24.wav        80931  3.670340  \n",
       "1439     2  03-01-08-02-02-02-24.wav        80195  3.636961  \n",
       "\n",
       "[1440 rows x 9 columns]"
      ]
     },
     "execution_count": 4,
     "metadata": {},
     "output_type": "execute_result"
    }
   ],
   "source": [
    "records_df = pd.DataFrame(columns=['Actor', 'Sex', 'Emotion', 'Intensity', 'Statement', 'Reps', 'File', 'No. Samples'])\n",
    "samples_length = []\n",
    "\n",
    "for i in range(1, 25):\n",
    "\tactor = f'Actor_{i:02}'\n",
    "\tactor_path = fr'{ravdess_path}\\{actor}'\n",
    "\n",
    "\tif i%2 != 0:\n",
    "\t\tsex = 'Man'\n",
    "\telse:\n",
    "\t\tsex = 'Woman'\n",
    "\n",
    "\t# Cada actor tiene 60 grabaciones\n",
    "\tcont = 0\n",
    "\tfor recording in os.listdir(actor_path):\n",
    "\t\temotion_index = get_feature_ravdess(recording, 3) - 1\n",
    "\t\tintensity_index = get_feature_ravdess(recording, 4) - 1\n",
    "\t\tstatement_index = get_feature_ravdess(recording, 5) - 1\n",
    "\t\trepetition = get_feature_ravdess(recording, 6)\n",
    "\n",
    "\t\trecords_df.loc[60*(i-1) + cont] = [actor, sex, emotions[emotion_index], intensities[intensity_index], \n",
    "\t\t\t\t\t\t\t\t\t statements[statement_index], repetition, recording, len(get_audio_record_ravdess(recording, True)[0])]\n",
    "\n",
    "\t\tcont += 1\n",
    "\n",
    "records_df['Duration'] = records_df['No. Samples'] / sr\n",
    "records_df"
   ]
  },
  {
   "cell_type": "code",
   "execution_count": 3,
   "metadata": {},
   "outputs": [],
   "source": [
    "# Guardar el df con todos los archivos como csv\n",
    "records_df.to_csv('data.csv', sep=';')"
   ]
  },
  {
   "cell_type": "markdown",
   "metadata": {},
   "source": [
    "## Sub_df"
   ]
  },
  {
   "cell_type": "code",
   "execution_count": 5,
   "metadata": {},
   "outputs": [
    {
     "data": {
      "text/plain": [
       "array(['03-01-05-02-01-01-03.wav', '03-01-05-02-01-02-03.wav',\n",
       "       '03-01-05-02-02-01-03.wav', '03-01-05-02-02-02-03.wav'],\n",
       "      dtype=object)"
      ]
     },
     "execution_count": 5,
     "metadata": {},
     "output_type": "execute_result"
    }
   ],
   "source": [
    "sub_df = records_df.loc[(records_df['Actor'] == 'Actor_03') # Actor_03 solo de prueba\n",
    "\t\t\t\t\t   & (records_df['Emotion'] == 'Angry')\n",
    "\t\t\t\t\t   & (records_df['Intensity'] == 'Strong')]\n",
    "\n",
    "files = sub_df['File'].to_numpy()\n",
    "files"
   ]
  },
  {
   "cell_type": "code",
   "execution_count": 7,
   "metadata": {},
   "outputs": [
    {
     "name": "stderr",
     "output_type": "stream",
     "text": [
      "C:\\Users\\JuanD\\AppData\\Local\\Temp\\ipykernel_10688\\1749487757.py:1: SettingWithCopyWarning: \n",
      "A value is trying to be set on a copy of a slice from a DataFrame.\n",
      "Try using .loc[row_indexer,col_indexer] = value instead\n",
      "\n",
      "See the caveats in the documentation: https://pandas.pydata.org/pandas-docs/stable/user_guide/indexing.html#returning-a-view-versus-a-copy\n",
      "  sub_df['Sample Entropy'] = calc_sampen(files, 8, True)[0]\n",
      "C:\\Users\\JuanD\\AppData\\Local\\Temp\\ipykernel_10688\\1749487757.py:2: SettingWithCopyWarning: \n",
      "A value is trying to be set on a copy of a slice from a DataFrame.\n",
      "Try using .loc[row_indexer,col_indexer] = value instead\n",
      "\n",
      "See the caveats in the documentation: https://pandas.pydata.org/pandas-docs/stable/user_guide/indexing.html#returning-a-view-versus-a-copy\n",
      "  sub_df['Correlation Dimension'] = calc_corr_dim(files, 8, True)[0]\n",
      "C:\\Users\\JuanD\\AppData\\Local\\Packages\\PythonSoftwareFoundation.Python.3.11_qbz5n2kfra8p0\\LocalCache\\local-packages\\Python311\\site-packages\\nolds\\measures.py:242: RuntimeWarning: signal has very low mean frequency, setting min_tsep = 3034\n",
      "  warnings.warn(msg.format(min_tsep), RuntimeWarning)\n",
      "C:\\Users\\JuanD\\AppData\\Local\\Packages\\PythonSoftwareFoundation.Python.3.11_qbz5n2kfra8p0\\LocalCache\\local-packages\\Python311\\site-packages\\nolds\\measures.py:242: RuntimeWarning: signal has very low mean frequency, setting min_tsep = 2919\n",
      "  warnings.warn(msg.format(min_tsep), RuntimeWarning)\n",
      "C:\\Users\\JuanD\\AppData\\Local\\Packages\\PythonSoftwareFoundation.Python.3.11_qbz5n2kfra8p0\\LocalCache\\local-packages\\Python311\\site-packages\\nolds\\measures.py:242: RuntimeWarning: signal has very low mean frequency, setting min_tsep = 3103\n",
      "  warnings.warn(msg.format(min_tsep), RuntimeWarning)\n",
      "C:\\Users\\JuanD\\AppData\\Local\\Temp\\ipykernel_10688\\1749487757.py:3: SettingWithCopyWarning: \n",
      "A value is trying to be set on a copy of a slice from a DataFrame.\n",
      "Try using .loc[row_indexer,col_indexer] = value instead\n",
      "\n",
      "See the caveats in the documentation: https://pandas.pydata.org/pandas-docs/stable/user_guide/indexing.html#returning-a-view-versus-a-copy\n",
      "  sub_df['Lyapunov Exponent Rosenstein'] = calc_lyap_r(files, 8, True)[0]\n",
      "C:\\Users\\JuanD\\AppData\\Local\\Temp\\ipykernel_10688\\1749487757.py:4: SettingWithCopyWarning: \n",
      "A value is trying to be set on a copy of a slice from a DataFrame.\n",
      "Try using .loc[row_indexer,col_indexer] = value instead\n",
      "\n",
      "See the caveats in the documentation: https://pandas.pydata.org/pandas-docs/stable/user_guide/indexing.html#returning-a-view-versus-a-copy\n",
      "  sub_df['Detrented Fluctuation Analysis'] = calc_dfa(files, 8, True)[0]\n",
      "C:\\Users\\JuanD\\AppData\\Local\\Temp\\ipykernel_10688\\1749487757.py:5: SettingWithCopyWarning: \n",
      "A value is trying to be set on a copy of a slice from a DataFrame.\n",
      "Try using .loc[row_indexer,col_indexer] = value instead\n",
      "\n",
      "See the caveats in the documentation: https://pandas.pydata.org/pandas-docs/stable/user_guide/indexing.html#returning-a-view-versus-a-copy\n",
      "  sub_df['Hurst Exponent'] = calc_hurst_rs(files, 8, True)[0]\n",
      "C:\\Users\\JuanD\\AppData\\Local\\Temp\\ipykernel_10688\\1749487757.py:8: SettingWithCopyWarning: \n",
      "A value is trying to be set on a copy of a slice from a DataFrame.\n",
      "Try using .loc[row_indexer,col_indexer] = value instead\n",
      "\n",
      "See the caveats in the documentation: https://pandas.pydata.org/pandas-docs/stable/user_guide/indexing.html#returning-a-view-versus-a-copy\n",
      "  sub_df['1st Lyapunov Exponent'] = lyap_e[:, 0]\n",
      "C:\\Users\\JuanD\\AppData\\Local\\Temp\\ipykernel_10688\\1749487757.py:9: SettingWithCopyWarning: \n",
      "A value is trying to be set on a copy of a slice from a DataFrame.\n",
      "Try using .loc[row_indexer,col_indexer] = value instead\n",
      "\n",
      "See the caveats in the documentation: https://pandas.pydata.org/pandas-docs/stable/user_guide/indexing.html#returning-a-view-versus-a-copy\n",
      "  sub_df['2nd Lyapunov Exponent'] = lyap_e[:, 1]\n",
      "C:\\Users\\JuanD\\AppData\\Local\\Temp\\ipykernel_10688\\1749487757.py:10: SettingWithCopyWarning: \n",
      "A value is trying to be set on a copy of a slice from a DataFrame.\n",
      "Try using .loc[row_indexer,col_indexer] = value instead\n",
      "\n",
      "See the caveats in the documentation: https://pandas.pydata.org/pandas-docs/stable/user_guide/indexing.html#returning-a-view-versus-a-copy\n",
      "  sub_df['3rd Lyapunov Exponent'] = lyap_e[:, 2]\n",
      "C:\\Users\\JuanD\\AppData\\Local\\Temp\\ipykernel_10688\\1749487757.py:11: SettingWithCopyWarning: \n",
      "A value is trying to be set on a copy of a slice from a DataFrame.\n",
      "Try using .loc[row_indexer,col_indexer] = value instead\n",
      "\n",
      "See the caveats in the documentation: https://pandas.pydata.org/pandas-docs/stable/user_guide/indexing.html#returning-a-view-versus-a-copy\n",
      "  sub_df['4th Lyapunov Exponent'] = lyap_e[:, 3]\n"
     ]
    }
   ],
   "source": [
    "sub_df['Sample Entropy'] = calc_sampen(files, 8, True)[0]\n",
    "sub_df['Correlation Dimension'] = calc_corr_dim(files, 8, True)[0]\n",
    "sub_df['Lyapunov Exponent Rosenstein'] = calc_lyap_r(files, 8, True)[0]\n",
    "sub_df['Detrented Fluctuation Analysis'] = calc_dfa(files, 8, True)[0]\n",
    "sub_df['Hurst Exponent'] = calc_hurst_rs(files, 8, True)[0]\n",
    "\n",
    "lyap_e =  calc_lyap_e(files, 8, True)[0]  # Se hace para aprovechar las ventajas de indexación de numpy\n",
    "sub_df['1st Lyapunov Exponent'] = lyap_e[:, 0]\n",
    "sub_df['2nd Lyapunov Exponent'] = lyap_e[:, 1]\n",
    "sub_df['3rd Lyapunov Exponent'] = lyap_e[:, 2]\n",
    "sub_df['4th Lyapunov Exponent'] = lyap_e[:, 3]\n",
    "\n",
    "# sub_df.to_csv('example_file.csv', sep=';')"
   ]
  },
  {
   "cell_type": "code",
   "execution_count": 12,
   "metadata": {},
   "outputs": [
    {
     "data": {
      "text/plain": [
       "array([[ 0.14976548,  0.04837184, -0.05081804, -0.22827989],\n",
       "       [ 0.2028529 ,  0.06916251, -0.04583837, -0.24034834],\n",
       "       [ 0.10759235,  0.02692107, -0.05481137, -0.21951789],\n",
       "       [ 0.2459678 ,  0.08136671, -0.04572332, -0.24744439]],\n",
       "      dtype=float32)"
      ]
     },
     "execution_count": 12,
     "metadata": {},
     "output_type": "execute_result"
    }
   ],
   "source": [
    "lyap_e"
   ]
  },
  {
   "cell_type": "code",
   "execution_count": 6,
   "metadata": {},
   "outputs": [
    {
     "data": {
      "text/html": [
       "<div>\n",
       "<style scoped>\n",
       "    .dataframe tbody tr th:only-of-type {\n",
       "        vertical-align: middle;\n",
       "    }\n",
       "\n",
       "    .dataframe tbody tr th {\n",
       "        vertical-align: top;\n",
       "    }\n",
       "\n",
       "    .dataframe thead th {\n",
       "        text-align: right;\n",
       "    }\n",
       "</style>\n",
       "<table border=\"1\" class=\"dataframe\">\n",
       "  <thead>\n",
       "    <tr style=\"text-align: right;\">\n",
       "      <th></th>\n",
       "      <th>Actor</th>\n",
       "      <th>Sex</th>\n",
       "      <th>Emotion</th>\n",
       "      <th>Intensity</th>\n",
       "      <th>Statement</th>\n",
       "      <th>Reps</th>\n",
       "      <th>File</th>\n",
       "      <th>Correlation Dimension</th>\n",
       "    </tr>\n",
       "  </thead>\n",
       "  <tbody>\n",
       "    <tr>\n",
       "      <th>152</th>\n",
       "      <td>Actor_03</td>\n",
       "      <td>Man</td>\n",
       "      <td>Angry</td>\n",
       "      <td>Strong</td>\n",
       "      <td>Kids are talking by the door</td>\n",
       "      <td>1</td>\n",
       "      <td>03-01-05-02-01-01-03.wav</td>\n",
       "      <td>2.596814</td>\n",
       "    </tr>\n",
       "    <tr>\n",
       "      <th>153</th>\n",
       "      <td>Actor_03</td>\n",
       "      <td>Man</td>\n",
       "      <td>Angry</td>\n",
       "      <td>Strong</td>\n",
       "      <td>Kids are talking by the door</td>\n",
       "      <td>2</td>\n",
       "      <td>03-01-05-02-01-02-03.wav</td>\n",
       "      <td>2.138573</td>\n",
       "    </tr>\n",
       "    <tr>\n",
       "      <th>154</th>\n",
       "      <td>Actor_03</td>\n",
       "      <td>Man</td>\n",
       "      <td>Angry</td>\n",
       "      <td>Strong</td>\n",
       "      <td>Dogs are sitting by the door</td>\n",
       "      <td>1</td>\n",
       "      <td>03-01-05-02-02-01-03.wav</td>\n",
       "      <td>1.798370</td>\n",
       "    </tr>\n",
       "    <tr>\n",
       "      <th>155</th>\n",
       "      <td>Actor_03</td>\n",
       "      <td>Man</td>\n",
       "      <td>Angry</td>\n",
       "      <td>Strong</td>\n",
       "      <td>Dogs are sitting by the door</td>\n",
       "      <td>2</td>\n",
       "      <td>03-01-05-02-02-02-03.wav</td>\n",
       "      <td>0.996994</td>\n",
       "    </tr>\n",
       "  </tbody>\n",
       "</table>\n",
       "</div>"
      ],
      "text/plain": [
       "        Actor  Sex Emotion Intensity                     Statement  Reps  \\\n",
       "152  Actor_03  Man   Angry    Strong  Kids are talking by the door     1   \n",
       "153  Actor_03  Man   Angry    Strong  Kids are talking by the door     2   \n",
       "154  Actor_03  Man   Angry    Strong  Dogs are sitting by the door     1   \n",
       "155  Actor_03  Man   Angry    Strong  Dogs are sitting by the door     2   \n",
       "\n",
       "                         File  Correlation Dimension  \n",
       "152  03-01-05-02-01-01-03.wav               2.596814  \n",
       "153  03-01-05-02-01-02-03.wav               2.138573  \n",
       "154  03-01-05-02-02-01-03.wav               1.798370  \n",
       "155  03-01-05-02-02-02-03.wav               0.996994  "
      ]
     },
     "execution_count": 6,
     "metadata": {},
     "output_type": "execute_result"
    }
   ],
   "source": [
    "sub_df"
   ]
  },
  {
   "cell_type": "markdown",
   "metadata": {},
   "source": [
    "## Cambios Df"
   ]
  },
  {
   "cell_type": "code",
   "execution_count": 4,
   "metadata": {},
   "outputs": [
    {
     "name": "stderr",
     "output_type": "stream",
     "text": [
      "C:\\Users\\JuanD\\AppData\\Local\\Packages\\PythonSoftwareFoundation.Python.3.11_qbz5n2kfra8p0\\LocalCache\\local-packages\\Python311\\site-packages\\nolds\\measures.py:783: RuntimeWarning: overflow encountered in scalar add\n",
      "  counts[-1] += np.sum(dsts < tolerance)\n",
      "C:\\Users\\JuanD\\AppData\\Local\\Packages\\PythonSoftwareFoundation.Python.3.11_qbz5n2kfra8p0\\LocalCache\\local-packages\\Python311\\site-packages\\nolds\\measures.py:788: RuntimeWarning: invalid value encountered in log\n",
      "  saen = -np.log(1.0 * counts[1] / counts[0])\n"
     ]
    }
   ],
   "source": [
    "files = records_df['File'].to_numpy()\n",
    "\n",
    "records_df['Sample Entropy'] = calc_sampen(files)\n",
    "records_df['Correlation Dimension'] = calc_corr_dim(files)\n",
    "# records_df['Lyapunov Exponent Rosenstein'] = calc_lyap_r(files)\n",
    "records_df['Detrented Fluctuation Analysis'] = calc_dfa(files)\n",
    "records_df['Hurst Exponent'] = calc_hurst_rs(files)\n",
    "\n",
    "lyap_e =  np.array([list(exponents) for exponents in calc_lyap_e(files, 8)]) # Se hace para aprovechar las ventajas de indexación de numpy\n",
    "records_df['1st Lyapunov Exponent'] = lyap_e[:, 0]\n",
    "records_df['2nd Lyapunov Exponent'] = lyap_e[:, 1]\n",
    "records_df['3rd Lyapunov Exponent'] = lyap_e[:, 2]\n",
    "records_df['4th Lyapunov Exponent'] = lyap_e[:, 3]\n",
    "\n",
    "records_df.to_csv('data_changed.csv', sep=';')"
   ]
  },
  {
   "cell_type": "code",
   "execution_count": null,
   "metadata": {},
   "outputs": [],
   "source": [
    "lyap_e =  np.array([list(exponents) for exponents in calc_lyap_e(files)]) # Se hace para aprovechar las ventajas de indexación de numpy\n",
    "records_df['1st Lyapunov Exponent'] = lyap_e[:, 0]\n",
    "records_df['2nd Lyapunov Exponent'] = lyap_e[:, 1]\n",
    "records_df['3rd Lyapunov Exponent'] = lyap_e[:, 2]\n",
    "records_df['4th Lyapunov Exponent'] = lyap_e[:, 3]\n",
    "  \n",
    "records_df.to_csv('data_changed.csv', sep=';')"
   ]
  },
  {
   "cell_type": "markdown",
   "metadata": {},
   "source": [
    "# Configurar el nivel de aleatoriedad en las funciones de nolds"
   ]
  },
  {
   "cell_type": "code",
   "execution_count": 2,
   "metadata": {},
   "outputs": [
    {
     "data": {
      "text/plain": [
       "array([-1.03946499e-04,  3.68481778e-06,  2.72420817e-04, ...,\n",
       "       -5.76934835e-05, -1.10347006e-04, -1.90979961e-04], dtype=float32)"
      ]
     },
     "metadata": {},
     "output_type": "display_data"
    },
    {
     "data": {
      "text/plain": [
       "97117"
      ]
     },
     "metadata": {},
     "output_type": "display_data"
    },
    {
     "data": {
      "text/plain": [
       "48558"
      ]
     },
     "metadata": {},
     "output_type": "display_data"
    }
   ],
   "source": [
    "actor_j = 3\n",
    "y, sr = librosa.load(fr'{ravdess_path}\\Actor_{actor_j:02}\\03-01-05-02-01-01-{actor_j:02}.wav')\n",
    "\n",
    "display(y, len(y), len(y)//2)"
   ]
  },
  {
   "cell_type": "code",
   "execution_count": 3,
   "metadata": {},
   "outputs": [
    {
     "ename": "MemoryError",
     "evalue": "Unable to allocate 35.1 GiB for an array with shape (97104, 97104) and data type float32",
     "output_type": "error",
     "traceback": [
      "\u001b[1;31m---------------------------------------------------------------------------\u001b[0m",
      "\u001b[1;31mMemoryError\u001b[0m                               Traceback (most recent call last)",
      "Cell \u001b[1;32mIn[3], line 1\u001b[0m\n\u001b[1;32m----> 1\u001b[0m \u001b[43mnolds\u001b[49m\u001b[38;5;241;43m.\u001b[39;49m\u001b[43mcorr_dim\u001b[49m\u001b[43m(\u001b[49m\u001b[43my\u001b[49m\u001b[43m,\u001b[49m\u001b[43m \u001b[49m\u001b[38;5;241;43m14\u001b[39;49m\u001b[43m)\u001b[49m\n",
      "File \u001b[1;32m~\\AppData\\Local\\Packages\\PythonSoftwareFoundation.Python.3.11_qbz5n2kfra8p0\\LocalCache\\local-packages\\Python311\\site-packages\\nolds\\measures.py:1359\u001b[0m, in \u001b[0;36mcorr_dim\u001b[1;34m(data, emb_dim, rvals, dist, fit, debug_plot, debug_data, plot_file)\u001b[0m\n\u001b[0;32m   1357\u001b[0m n \u001b[38;5;241m=\u001b[39m \u001b[38;5;28mlen\u001b[39m(data)\n\u001b[0;32m   1358\u001b[0m orbit \u001b[38;5;241m=\u001b[39m delay_embedding(data, emb_dim, lag\u001b[38;5;241m=\u001b[39m\u001b[38;5;241m1\u001b[39m)\n\u001b[1;32m-> 1359\u001b[0m dists \u001b[38;5;241m=\u001b[39m \u001b[43mnp\u001b[49m\u001b[38;5;241;43m.\u001b[39;49m\u001b[43marray\u001b[49m\u001b[43m(\u001b[49m\u001b[43m[\u001b[49m\u001b[43mdist\u001b[49m\u001b[43m(\u001b[49m\u001b[43morbit\u001b[49m\u001b[43m,\u001b[49m\u001b[43m \u001b[49m\u001b[43morbit\u001b[49m\u001b[43m[\u001b[49m\u001b[43mi\u001b[49m\u001b[43m]\u001b[49m\u001b[43m)\u001b[49m\u001b[43m \u001b[49m\u001b[38;5;28;43;01mfor\u001b[39;49;00m\u001b[43m \u001b[49m\u001b[43mi\u001b[49m\u001b[43m \u001b[49m\u001b[38;5;129;43;01min\u001b[39;49;00m\u001b[43m \u001b[49m\u001b[38;5;28;43mrange\u001b[39;49m\u001b[43m(\u001b[49m\u001b[38;5;28;43mlen\u001b[39;49m\u001b[43m(\u001b[49m\u001b[43morbit\u001b[49m\u001b[43m)\u001b[49m\u001b[43m)\u001b[49m\u001b[43m]\u001b[49m\u001b[43m)\u001b[49m\n\u001b[0;32m   1360\u001b[0m csums \u001b[38;5;241m=\u001b[39m []\n\u001b[0;32m   1361\u001b[0m \u001b[38;5;28;01mfor\u001b[39;00m r \u001b[38;5;129;01min\u001b[39;00m rvals:\n",
      "\u001b[1;31mMemoryError\u001b[0m: Unable to allocate 35.1 GiB for an array with shape (97104, 97104) and data type float32"
     ]
    }
   ],
   "source": [
    "nolds.corr_dim(y, 14)"
   ]
  },
  {
   "cell_type": "code",
   "execution_count": 10,
   "metadata": {},
   "outputs": [
    {
     "name": "stderr",
     "output_type": "stream",
     "text": [
      "C:\\Users\\JuanD\\AppData\\Local\\Packages\\PythonSoftwareFoundation.Python.3.11_qbz5n2kfra8p0\\LocalCache\\local-packages\\Python311\\site-packages\\nolds\\measures.py:240: RuntimeWarning: signal has very low mean frequency, setting min_tsep = 12139\n",
      "  warnings.warn(msg.format(min_tsep), RuntimeWarning)\n"
     ]
    }
   ],
   "source": [
    "# Con RANSAC\n",
    "\n",
    "def test_function(y: np.ndarray) -> np.ndarray:\n",
    "\titerations = 20\n",
    "\n",
    "\tlyapr_list = np.empty(iterations, dtype='float32')\n",
    "\tlyape_list = np.empty(iterations, dtype=np.ndarray)\n",
    "\tcorr_list = np.empty(iterations, dtype='float32')\n",
    "\n",
    "\tn = len(y) // 2\n",
    "\tfor i in range(iterations):\n",
    "\t\t# Se redujo en la mitad para que no salga error y de paso reducir el tiempo, pues solo quiero ver si la funcion cambia cuando se utiliza (como pasa como lyap_r y corr_dim)\n",
    "\t\tlyapr_list[i] = nolds.lyap_r(y[:n])\n",
    "\t\tlyape_list[i] = nolds.lyap_e(y[:n])\n",
    "\t\tcorr_list[i] = nolds.corr_dim(y[:n], emb_dim=14)\n",
    "\t\n",
    "\treturn lyapr_list, lyape_list, corr_list\n",
    "\n",
    "a, b, c = test_function(y)\n",
    "\n",
    "display(a, b, c)"
   ]
  },
  {
   "cell_type": "code",
   "execution_count": 4,
   "metadata": {},
   "outputs": [
    {
     "name": "stderr",
     "output_type": "stream",
     "text": [
      "C:\\Users\\JuanD\\AppData\\Local\\Temp\\ipykernel_15260\\2224796387.py:3: NumbaWarning: \u001b[1mCannot cache compiled function \"test_function\" as it uses lifted code\u001b[0m\n",
      "  @numba.jit(forceobj=True, looplift=True, parallel=True, cache=True)\n",
      "C:\\Users\\JuanD\\AppData\\Local\\Temp\\ipykernel_15260\\2224796387.py:3: NumbaWarning: \u001b[1m\n",
      "Compilation is falling back to object mode WITHOUT looplifting enabled because Function \"test_function\" failed type inference due to: \u001b[1m\u001b[1mUnknown attribute 'lyap_r' of type Module(<module 'nolds' from 'C:\\\\Users\\\\JuanD\\\\AppData\\\\Local\\\\Packages\\\\PythonSoftwareFoundation.Python.3.11_qbz5n2kfra8p0\\\\LocalCache\\\\local-packages\\\\Python311\\\\site-packages\\\\nolds\\\\__init__.py'>)\n",
      "\u001b[1m\n",
      "File \"..\\..\\..\\AppData\\Local\\Temp\\ipykernel_15260\\2224796387.py\", line 13:\u001b[0m\n",
      "\u001b[1m<source missing, REPL/exec in use?>\u001b[0m\n",
      "\u001b[0m\n",
      "\u001b[0m\u001b[1mDuring: typing of get attribute at C:\\Users\\JuanD\\AppData\\Local\\Temp\\ipykernel_15260\\2224796387.py (13)\u001b[0m\n",
      "\u001b[1m\n",
      "File \"..\\..\\..\\AppData\\Local\\Temp\\ipykernel_15260\\2224796387.py\", line 13:\u001b[0m\n",
      "\u001b[1m<source missing, REPL/exec in use?>\u001b[0m\n",
      "\u001b[0m\n",
      "  @numba.jit(forceobj=True, looplift=True, parallel=True, cache=True)\n",
      "C:\\Users\\JuanD\\AppData\\Local\\Packages\\PythonSoftwareFoundation.Python.3.11_qbz5n2kfra8p0\\LocalCache\\local-packages\\Python311\\site-packages\\nolds\\measures.py:240: RuntimeWarning: signal has very low mean frequency, setting min_tsep = 12139\n",
      "  warnings.warn(msg.format(min_tsep), RuntimeWarning)\n"
     ]
    },
    {
     "data": {
      "text/plain": [
       "array([0.02517943, 0.02517943, 0.02517943, 0.02517943, 0.02517943,\n",
       "       0.02517943, 0.02517943, 0.02517943, 0.02517943, 0.02517943,\n",
       "       0.02517943, 0.02517943, 0.02517943, 0.02517943, 0.02517943,\n",
       "       0.02517943, 0.02517943, 0.02517943, 0.02517943, 0.02517943],\n",
       "      dtype=float32)"
      ]
     },
     "metadata": {},
     "output_type": "display_data"
    },
    {
     "data": {
      "text/plain": [
       "array([0.10439863, 0.10439863, 0.10439863, 0.10439863, 0.10439863,\n",
       "       0.10439863, 0.10439863, 0.10439863, 0.10439863, 0.10439863,\n",
       "       0.10439863, 0.10439863, 0.10439863, 0.10439863, 0.10439863,\n",
       "       0.10439863, 0.10439863, 0.10439863, 0.10439863, 0.10439863],\n",
       "      dtype=float32)"
      ]
     },
     "metadata": {},
     "output_type": "display_data"
    },
    {
     "data": {
      "text/plain": [
       "array([0.09444284, 0.09444284, 0.09444284, 0.09444284, 0.09444284,\n",
       "       0.09444284, 0.09444284, 0.09444284, 0.09444284, 0.09444284,\n",
       "       0.09444284, 0.09444284, 0.09444284, 0.09444284, 0.09444284,\n",
       "       0.09444284, 0.09444284, 0.09444284, 0.09444284, 0.09444284],\n",
       "      dtype=float32)"
      ]
     },
     "metadata": {},
     "output_type": "display_data"
    }
   ],
   "source": [
    "# Con poly\n",
    "# Como nolds.lyap_e no presentó cambios en las 20 iteraciones, asumiré que nunca cambiará\n",
    "def test_function(y: np.ndarray) -> np.ndarray:\n",
    "\titerations = 20\n",
    "\n",
    "\tlyapr_list = np.empty(iterations, dtype='float32')\n",
    "\tsampen_list = np.empty(iterations, dtype='float32')\n",
    "\tcorr_list = np.empty(iterations, dtype='float32')\n",
    "\n",
    "\tn = len(y) // 2\n",
    "\tfor i in range(iterations):\n",
    "\t\tlyapr_list[i] = nolds.lyap_r(y[:n], fit='poly')\n",
    "\t\tsampen_list[i] = nolds.sampen(y[:n])\n",
    "\t\tcorr_list[i] = nolds.corr_dim(y[:n], emb_dim=14, fit='poly')\n",
    "\t\n",
    "\treturn lyapr_list, sampen_list, corr_list\n",
    "\n",
    "a, b, c = test_function(y)\n",
    "\n",
    "display(a, b, c)"
   ]
  },
  {
   "cell_type": "code",
   "execution_count": 100,
   "metadata": {},
   "outputs": [
    {
     "name": "stderr",
     "output_type": "stream",
     "text": [
      "C:\\Users\\JuanD\\AppData\\Local\\Packages\\PythonSoftwareFoundation.Python.3.11_qbz5n2kfra8p0\\LocalCache\\local-packages\\Python311\\site-packages\\nolds\\measures.py:240: RuntimeWarning: signal has very low mean frequency, setting min_tsep = 12139\n",
      "  warnings.warn(msg.format(min_tsep), RuntimeWarning)\n"
     ]
    },
    {
     "data": {
      "text/plain": [
       "0.01954484476589766"
      ]
     },
     "execution_count": 100,
     "metadata": {},
     "output_type": "execute_result"
    }
   ],
   "source": [
    "nolds.lyap_r(y[:len(y)//2])"
   ]
  },
  {
   "cell_type": "code",
   "execution_count": 45,
   "metadata": {},
   "outputs": [
    {
     "data": {
      "text/plain": [
       "array([ 0.16209064,  0.0508052 , -0.05274116, -0.2338769 ], dtype=float32)"
      ]
     },
     "execution_count": 45,
     "metadata": {},
     "output_type": "execute_result"
    }
   ],
   "source": [
    "nolds.lyap_e(y[:len(y)//2])"
   ]
  },
  {
   "cell_type": "markdown",
   "metadata": {},
   "source": [
    "# Escoger el parámetro `emb_dim`"
   ]
  },
  {
   "cell_type": "code",
   "execution_count": 9,
   "metadata": {},
   "outputs": [
    {
     "name": "stdout",
     "output_type": "stream",
     "text": [
      "1. 251.80613470077515 s\n",
      "2. 291.5773639678955 s\n",
      "3. 282.79242992401123 s\n",
      "4. 315.3976204395294 s\n",
      "5. 273.0173900127411 s\n",
      "6. 425.9858751296997 s\n",
      "7. 270.1188540458679 s\n",
      "8. 281.1285252571106 s\n",
      "9. 331.3758215904236 s\n",
      "10. 320.1518874168396 s\n",
      "11. 274.77489256858826 s\n",
      "12. 288.1786091327667 s\n",
      "13. 287.4401876926422 s\n",
      "14. 342.28069281578064 s\n",
      "15. 288.105849981308 s\n",
      "16. 299.86809182167053 s\n",
      "17. 303.2436354160309 s\n",
      "18. 329.54646396636963 s\n",
      "19. 278.5589339733124 s\n",
      "20. 296.3626799583435 s\n",
      "21. 323.61642479896545 s\n",
      "22. 264.1258294582367 s\n",
      "23. 470.2053687572479 s\n",
      "24. 286.8447141647339 s\n",
      "25. 307.5813522338867 s\n",
      "26. 307.463166475296 s\n",
      "27. 275.8475522994995 s\n",
      "28. 362.9521105289459 s\n",
      "29. 354.4666938781738 s\n",
      "30. 449.8777451515198 s\n",
      "31. 386.5712125301361 s\n",
      "32. 303.89612770080566 s\n",
      "33. 340.27865958213806 s\n",
      "34. 301.010479927063 s\n",
      "35. 298.47139620780945 s\n",
      "36. 355.6933696269989 s\n",
      "37. 346.4065132141113 s\n",
      "38. 350.3728611469269 s\n",
      "39. 302.9468185901642 s\n",
      "40. 340.10828948020935 s\n",
      "41. 354.23743176460266 s\n",
      "42. 369.5573089122772 s\n",
      "43. 658.019597530365 s\n",
      "44. 651.3539028167725 s\n",
      "45. 767.1735100746155 s\n"
     ]
    },
    {
     "data": {
      "text/plain": [
       "array([ 1.,  2.,  3.,  4.,  5.,  6.,  7.,  8.,  9., 10., 11., 12., 13.,\n",
       "       14., 15., 16., 17., 18., 19., 20., 21., 22., 23., 24., 25., 26.,\n",
       "       27., 28., 29., 30., 31., 32., 33., 34., 35., 36., 37., 38., 39.,\n",
       "       40., 41., 42., 43., 44., 45.])"
      ]
     },
     "metadata": {},
     "output_type": "display_data"
    },
    {
     "data": {
      "text/plain": [
       "array([0.41845171, 0.40189771, 0.33433407, 0.24332355, 0.18875182,\n",
       "       0.1766636 , 0.14986828, 0.13485631, 0.11587905, 0.10311042,\n",
       "       0.10442525, 0.09510591, 0.0963101 , 0.085538  , 0.09158593,\n",
       "       0.09510297, 0.0948843 , 0.09725669, 0.07380858, 0.09600793,\n",
       "       0.10628741, 0.08530884, 0.10558315, 0.10060434, 0.0997724 ,\n",
       "       0.087843  , 0.0898386 , 0.11808548, 0.13480913, 0.110434  ,\n",
       "       0.1075806 , 0.11743447, 0.11179689, 0.12562053, 0.12894203,\n",
       "       0.12471319, 0.1358599 , 0.13432104, 0.12561856, 0.14694671,\n",
       "       0.15374453, 0.13710313, 0.14484175, 0.13826748, 0.14091323])"
      ]
     },
     "metadata": {},
     "output_type": "display_data"
    }
   ],
   "source": [
    "from time import time\n",
    "\n",
    "emb_dim_max = 45\n",
    "\n",
    "corr_dims: np.ndarray = np.empty(emb_dim_max)\n",
    "emb_dims: np.ndarray = np.empty(emb_dim_max) \n",
    "\n",
    "for i in range(1, emb_dim_max+1):\n",
    "\tt0 = time()\n",
    "\t\n",
    "\temb_dims[i-1] = i\n",
    "\tcorr_dims[i-1] = nolds.corr_dim(y[:len(y)//2], i)\n",
    "\n",
    "\tprint(f'{i}. {time() - t0} s')\n",
    "\n",
    "display(emb_dims, corr_dims)"
   ]
  },
  {
   "cell_type": "code",
   "execution_count": 10,
   "metadata": {},
   "outputs": [
    {
     "data": {
      "image/png": "[encoded data removed]",
      "text/plain": [
       "<Figure size 640x480 with 1 Axes>"
      ]
     },
     "metadata": {},
     "output_type": "display_data"
    }
   ],
   "source": [
    "import matplotlib.pyplot as plt\n",
    "\n",
    "plt.plot(emb_dims, corr_dims)\n",
    "plt.show()"
   ]
  },
  {
   "cell_type": "markdown",
   "metadata": {},
   "source": [
    "# Probar con resamplear el audio"
   ]
  },
  {
   "cell_type": "code",
   "execution_count": null,
   "metadata": {},
   "outputs": [],
   "source": []
  }
 ],
 "metadata": {
  "kernelspec": {
   "display_name": "Python 3",
   "language": "python",
   "name": "python3"
  },
  "language_info": {
   "codemirror_mode": {
    "name": "ipython",
    "version": 3
   },
   "file_extension": ".py",
   "mimetype": "text/x-python",
   "name": "python",
   "nbconvert_exporter": "python",
   "pygments_lexer": "ipython3",
   "version": "3.11.9"
  }
 },
 "nbformat": 4,
 "nbformat_minor": 2
}
