{
 "cells": [
  {
   "cell_type": "markdown",
   "metadata": {},
   "source": [
    "# Ravdess\n",
    "\n",
    "Comprobaciones de todos los archivos"
   ]
  },
  {
   "cell_type": "code",
   "execution_count": 1,
   "metadata": {},
   "outputs": [],
   "source": [
    "import os\n",
    "from my_functions import get_feature_ravdess\n",
    "\n",
    "\n",
    "path = r'Ravdess\\audio_speech_actors_01-24'"
   ]
  },
  {
   "cell_type": "code",
   "execution_count": 3,
   "metadata": {},
   "outputs": [
    {
     "data": {
      "text/plain": [
       "True"
      ]
     },
     "execution_count": 3,
     "metadata": {},
     "output_type": "execute_result"
    }
   ],
   "source": [
    "# Se verifica si todos son pistas de audio\n",
    "same_starts = []\n",
    "\n",
    "for i in range(1, 25):\n",
    "\tactor_path = path + fr'\\Actor_{i:02}'\n",
    "\tfilenames = os.listdir(actor_path)\n",
    "\t\n",
    "\tsame_start = all(map(lambda filename: get_feature_ravdess(filename, 1) == 3, filenames))\n",
    "\tsame_starts.append(same_start)\n",
    "\n",
    "all(same_starts) # Todos son pistas de audio"
   ]
  },
  {
   "cell_type": "code",
   "execution_count": 4,
   "metadata": {},
   "outputs": [
    {
     "data": {
      "text/plain": [
       "True"
      ]
     },
     "execution_count": 4,
     "metadata": {},
     "output_type": "execute_result"
    }
   ],
   "source": [
    "# Se verifica si el vocal channel siempre es `Speech`\n",
    "\n",
    "same_vocal_channels = []\n",
    "\n",
    "for i in range(1, 25):\n",
    "\tactor_path = path + fr'\\Actor_{i:02}'\n",
    "\tfilenames = os.listdir(actor_path)\n",
    "\n",
    "\tsame_vocal_channel = all(map(lambda filename: get_feature_ravdess(filename, 2) == 1, filenames))\n",
    "\tsame_vocal_channels.append(same_vocal_channel)\n",
    "\n",
    "all(same_vocal_channels) # Todos son `speech`, no hay nadie que esté cantando"
   ]
  },
  {
   "cell_type": "code",
   "execution_count": 5,
   "metadata": {},
   "outputs": [
    {
     "data": {
      "text/plain": [
       "60"
      ]
     },
     "execution_count": 5,
     "metadata": {},
     "output_type": "execute_result"
    }
   ],
   "source": [
    "# Ver la cantidad de grabaciones para cada sentimiento del actor 1\n",
    "\n",
    "actor01_path = r'C:\\Users\\JuanD\\Documents\\vscode\\SER\\Ravdess\\audio_speech_actors_01-24\\Actor_01'\n",
    "recordings = os.listdir(actor01_path)\n",
    "\n",
    "# Cambiar el nombre de los elementos a solo la emocion \n",
    "recordings_emotion = list(map(lambda file: get_feature_ravdess(file, 3), recordings))\n",
    "\n",
    "# Cantidad de grabaciones para cada emocion\n",
    "emotion_repetitions = [recordings_emotion.count(i) for i in range(1, 9)]\n",
    "\n",
    "# print(emotion_repetitions) # [4, 8, 8, 8, 8, 8, 8, 8] -> 4 grabaciones como neutro y 8 grabaciones para cada una de las demas emociones\n",
    "sum(emotion_repetitions)"
   ]
  },
  {
   "cell_type": "code",
   "execution_count": 6,
   "metadata": {},
   "outputs": [
    {
     "data": {
      "text/plain": [
       "True"
      ]
     },
     "execution_count": 6,
     "metadata": {},
     "output_type": "execute_result"
    }
   ],
   "source": [
    "# Se verifica si todos los actores tienen 60 grabaciones\n",
    "\n",
    "same_records_quantity = []\n",
    "\n",
    "for i in range(1, 25):\n",
    "\tactor_path = path + fr'\\Actor_{i:02}'\n",
    "\tfilenames = os.listdir(actor_path)\n",
    "\n",
    "\t# Cambiar el nombre de los elementos a solo la emocion \n",
    "\trecordings_emotion = list(map(lambda file: get_feature_ravdess(file, 3), recordings))\n",
    "\n",
    "\t# Cantidad de grabaciones para cada emocion\n",
    "\temotion_repetitions = [recordings_emotion.count(i) for i in range(1, 9)]\n",
    "\n",
    "\tsame_records_quantity.append(sum(emotion_repetitions) == 60)\n",
    "\n",
    "all(same_records_quantity) # Todos los sujetos tienen 60 grabaciones"
   ]
  },
  {
   "cell_type": "markdown",
   "metadata": {},
   "source": [
    "# CREMA - TESS - SAVEE \n",
    "\n",
    "Ya no hace falta realizar las comprobaciones, pero en caso de serlo en un futuro, seguir usando este Notebook"
   ]
  }
 ],
 "metadata": {
  "kernelspec": {
   "display_name": "Python 3",
   "language": "python",
   "name": "python3"
  },
  "language_info": {
   "codemirror_mode": {
    "name": "ipython",
    "version": 3
   },
   "file_extension": ".py",
   "mimetype": "text/x-python",
   "name": "python",
   "nbconvert_exporter": "python",
   "pygments_lexer": "ipython3",
   "version": "3.11.9"
  }
 },
 "nbformat": 4,
 "nbformat_minor": 2
}
