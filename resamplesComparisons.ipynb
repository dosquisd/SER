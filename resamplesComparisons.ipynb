{
 "cells": [
  {
   "cell_type": "code",
   "execution_count": null,
   "metadata": {},
   "outputs": [],
   "source": [
    "import pandas as pd\n",
    "import matplotlib.pyplot as plt\n",
    "\n",
    "df = pd.read_csv('your_file.csv')\n",
    "resampled_df = df.resample('D').mean()  # Resample data (change 'D' to your desired frequency)\n",
    "\n",
    "# Now, 'your_column' in the original data vs resampled data\n",
    "original_data = df['your_column']\n",
    "resampled_data = resampled_df['your_column']\n",
    "\n",
    "# Create a new DataFrame for comparison\n",
    "comparison_df = pd.DataFrame({\n",
    "    'Original': original_data,\n",
    "    'Resampled': resampled_data\n",
    "})\n",
    "\n",
    "# Drop rows with missing values\n",
    "comparison_df = comparison_df.dropna()\n",
    "\n",
    "# Create boxplot\n",
    "plt.figure(figsize=(12, 6))\n",
    "plt.boxplot([comparison_df['Original'], comparison_df['Resampled']], labels=['Original', 'Resampled'])\n",
    "plt.title('Comparison of Original and Resampled Data')\n",
    "plt.show()\n"
   ]
  }
 ],
 "metadata": {
  "language_info": {
   "name": "python"
  }
 },
 "nbformat": 4,
 "nbformat_minor": 2
}
